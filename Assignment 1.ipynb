{
 "cells": [
  {
   "cell_type": "code",
   "execution_count": 1,
   "metadata": {},
   "outputs": [
    {
     "name": "stdout",
     "output_type": "stream",
     "text": [
      "My name is Pritam Paul\n"
     ]
    }
   ],
   "source": [
    "##Print your Name\n",
    "print(\"My name is Pritam Paul\")"
   ]
  },
  {
   "cell_type": "code",
   "execution_count": 2,
   "metadata": {},
   "outputs": [
    {
     "name": "stdout",
     "output_type": "stream",
     "text": [
      "print N1 12\n",
      "print N2 24\n",
      "Sum is:  36\n",
      "AVG is: 18\n"
     ]
    }
   ],
   "source": [
    "##Print Aggregate\n",
    "N1 = int(input(\"print N1 \"))\n",
    "N2 = int(input(\"print N2 \"))\n",
    "\n",
    "N = N1 + N2\n",
    "\n",
    "print(\"Sum is: \", N)\n",
    "\n",
    "AVG = int(N/2)\n",
    "\n",
    "print(\"AVG is:\", AVG)"
   ]
  },
  {
   "cell_type": "code",
   "execution_count": 3,
   "metadata": {},
   "outputs": [
    {
     "name": "stdout",
     "output_type": "stream",
     "text": [
      "12.56\n"
     ]
    }
   ],
   "source": [
    "##Area\n",
    "area=3.14*2*2\n",
    "print(area)"
   ]
  },
  {
   "cell_type": "code",
   "execution_count": 4,
   "metadata": {},
   "outputs": [
    {
     "name": "stdout",
     "output_type": "stream",
     "text": [
      "Enter radius of the circle:12\n",
      "Area of the circle is:  452.15999999999997\n"
     ]
    }
   ],
   "source": [
    "##Area of a Circle\n",
    "r=float(input(\"Enter radius of the circle:\"))\n",
    "area=3.14*r*r\n",
    "print(\"Area of the circle is: \",area)\n"
   ]
  },
  {
   "cell_type": "code",
   "execution_count": 5,
   "metadata": {},
   "outputs": [
    {
     "name": "stdout",
     "output_type": "stream",
     "text": [
      "num1 = 16\n",
      "num2 = 23\n",
      "sum =  39\n"
     ]
    }
   ],
   "source": [
    "num1=int(input(\"num1 = \"))\n",
    "num2=int(input(\"num2 = \"))\n",
    "sum =(num1+num2)\n",
    "\n",
    "print(\"sum = \",sum)"
   ]
  },
  {
   "cell_type": "code",
   "execution_count": 6,
   "metadata": {},
   "outputs": [
    {
     "name": "stdout",
     "output_type": "stream",
     "text": [
      "Enter principal amount: 100\n",
      "Enter duration of loan: 200\n",
      "Enter rate of interest: 12\n",
      "Total interest:  240000\n"
     ]
    }
   ],
   "source": [
    "##Interest\n",
    "p=int(input(\"Enter principal amount: \"))\n",
    "t=int(input(\"Enter duration of loan: \"))\n",
    "i=int(input(\"Enter rate of interest: \"))\n",
    "\n",
    "l=p*t*i\n",
    "print(\"Total interest: \",l)"
   ]
  },
  {
   "cell_type": "code",
   "execution_count": 7,
   "metadata": {},
   "outputs": [
    {
     "name": "stdout",
     "output_type": "stream",
     "text": [
      "Enter temperature in farenhite:120\n",
      "Temperature: 48.88888888888889  Celcius\n"
     ]
    }
   ],
   "source": [
    "##Temperature\n",
    "f=int(input(\"Enter temperature in farenhite:\"))\n",
    "c=(f-32)*(5/9)\n",
    "print(\"Temperature:\",c,\" Celcius\")"
   ]
  },
  {
   "cell_type": "code",
   "execution_count": 8,
   "metadata": {},
   "outputs": [
    {
     "name": "stdout",
     "output_type": "stream",
     "text": [
      "Enter the value of C and D: 12 24\n",
      "The value of C and D: 24 12\n"
     ]
    }
   ],
   "source": [
    "##Swapping\n",
    "c,d=input(\"Enter the value of C and D: \").split()\n",
    "s=c\n",
    "c=d\n",
    "d=s\n",
    "print(\"The value of C and D:\",c,d)\n"
   ]
  },
  {
   "cell_type": "code",
   "execution_count": 9,
   "metadata": {},
   "outputs": [
    {
     "name": "stdout",
     "output_type": "stream",
     "text": [
      "Enter 2 digit number: 12\n",
      "Reverse of the given number is:  21\n"
     ]
    }
   ],
   "source": [
    "##Reverse\n",
    "a=int(input(\"Enter 2 digit number: \"))\n",
    "r=0\n",
    "while(a>0):\n",
    "    b=a%10\n",
    "    r=(r*10)+b\n",
    "    a=a//10\n",
    "print(\"Reverse of the given number is: \",r)\n"
   ]
  },
  {
   "cell_type": "code",
   "execution_count": null,
   "metadata": {},
   "outputs": [],
   "source": []
  }
 ],
 "metadata": {
  "kernelspec": {
   "display_name": "Python 3",
   "language": "python",
   "name": "python3"
  },
  "language_info": {
   "codemirror_mode": {
    "name": "ipython",
    "version": 3
   },
   "file_extension": ".py",
   "mimetype": "text/x-python",
   "name": "python",
   "nbconvert_exporter": "python",
   "pygments_lexer": "ipython3",
   "version": "3.7.3"
  }
 },
 "nbformat": 4,
 "nbformat_minor": 2
}
