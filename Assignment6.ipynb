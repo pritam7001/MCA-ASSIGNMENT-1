{
 "cells": [
  {
   "cell_type": "code",
   "execution_count": 1,
   "metadata": {},
   "outputs": [
    {
     "name": "stdout",
     "output_type": "stream",
     "text": [
      "Bal*o*n\n"
     ]
    }
   ],
   "source": [
    "#Q1. INPUT : Balloon \n",
    "#OUTPUT : Bal*o*n\n",
    "    \n",
    "def fun(str1):\n",
    "    new_str = ''\n",
    "    for i in str1:\n",
    "        if i in new_str:\n",
    "            new_str += '*'\n",
    "        else:\n",
    "            new_str += i\n",
    "\n",
    "    return new_str\n",
    "\n",
    "print(fun(\"Balloon\"))"
   ]
  },
  {
   "cell_type": "code",
   "execution_count": 2,
   "metadata": {},
   "outputs": [
    {
     "name": "stdout",
     "output_type": "stream",
     "text": [
      "The original string is : This is Python Programming assignment\n",
      "The number of words in string are : 5\n"
     ]
    }
   ],
   "source": [
    "#Q2. Write a function that takes a sentence as an input parameter and displays the number of words in the \n",
    "#sentence.\n",
    "#INPUT: This is Python Programming assignment.       OUTPUT : Number of words: 5\n",
    " \n",
    "test_string = \"This is Python Programming assignment\"\n",
    "\n",
    "print (\"The original string is : \" + test_string)\n",
    "\n",
    "res = len(test_string.split())\n",
    "\n",
    "print (\"The number of words in string are : \" + str(res))"
   ]
  },
  {
   "cell_type": "code",
   "execution_count": 3,
   "metadata": {},
   "outputs": [
    {
     "name": "stdout",
     "output_type": "stream",
     "text": [
      "Enter a word: Python\n",
      "Pyon\n"
     ]
    }
   ],
   "source": [
    "#Q3. write a python function which take input a string and return a string made of the first 2 and the last 2\n",
    "#chars from a given a string. If the string length is less than 2, return instead of the empty string.\n",
    "\n",
    "#INPUT : Python  OUTPUT : Pyon\n",
    "\n",
    "def string_both_ends(str):\n",
    "  if len(str) < 2:\n",
    "    return ''\n",
    "\n",
    "  return str[0:2] + str[-2:]\n",
    "x = str(input(\"Enter a word: \"))\n",
    "print(string_both_ends(x))\n"
   ]
  },
  {
   "cell_type": "code",
   "execution_count": 4,
   "metadata": {},
   "outputs": [
    {
     "name": "stdout",
     "output_type": "stream",
     "text": [
      "abc xyz\n",
      "xyc abz\n"
     ]
    }
   ],
   "source": [
    "#Q4. write a Python function which take two string as input and return a single string from two given strings,\n",
    "#separated by a space and swap the first two characters of each string\n",
    "\n",
    "#INPUT : 'abc'\n",
    "#INPUT : 'xyz' \n",
    "\n",
    "#OUTPUT : 'xyc abz'\n",
    "\n",
    "def chars_mix_up(a,b):\n",
    "    print(a,b)\n",
    "    new_a=b[:2]+a[2:]\n",
    "    new_b=a[:2]+b[2:]\n",
    "    return new_a+' '+new_b\n",
    "print(chars_mix_up('abc','xyz'))"
   ]
  },
  {
   "cell_type": "code",
   "execution_count": 11,
   "metadata": {},
   "outputs": [
    {
     "ename": "NameError",
     "evalue": "name '_name_' is not defined",
     "output_type": "error",
     "traceback": [
      "\u001b[0;31m---------------------------------------------------------------------------\u001b[0m",
      "\u001b[0;31mNameError\u001b[0m                                 Traceback (most recent call last)",
      "\u001b[0;32m<ipython-input-11-41d8cb313b2a>\u001b[0m in \u001b[0;36m<module>\u001b[0;34m\u001b[0m\n\u001b[1;32m     17\u001b[0m     \u001b[0mprint\u001b[0m\u001b[0;34m(\u001b[0m\u001b[0;34m\"New word = \"\u001b[0m\u001b[0;34m,\u001b[0m\u001b[0mstr1\u001b[0m\u001b[0;34m)\u001b[0m\u001b[0;34m\u001b[0m\u001b[0;34m\u001b[0m\u001b[0m\n\u001b[1;32m     18\u001b[0m \u001b[0;34m\u001b[0m\u001b[0m\n\u001b[0;32m---> 19\u001b[0;31m \u001b[0;32mif\u001b[0m \u001b[0m_name_\u001b[0m\u001b[0;34m==\u001b[0m\u001b[0;34m\"_main_\"\u001b[0m\u001b[0;34m:\u001b[0m\u001b[0;34m\u001b[0m\u001b[0;34m\u001b[0m\u001b[0m\n\u001b[0m\u001b[1;32m     20\u001b[0m     \u001b[0madd_string\u001b[0m\u001b[0;34m(\u001b[0m\u001b[0;34m)\u001b[0m\u001b[0;34m\u001b[0m\u001b[0;34m\u001b[0m\u001b[0m\n\u001b[1;32m     21\u001b[0m \u001b[0;34m\u001b[0m\u001b[0m\n",
      "\u001b[0;31mNameError\u001b[0m: name '_name_' is not defined"
     ]
    }
   ],
   "source": [
    "#Q.5. write a Python function add 'ing' at the end of a given string (length should be at least 3). If the\n",
    "#given string already ends with 'ing' then add 'ly' instead. If the string length of the given string is less\n",
    "#than 3, leave it unchanged.\n",
    "\n",
    "#Sample-1          Sample-1\n",
    "#Abc               Abcing\n",
    "#Sample-2          Sample-2\n",
    "#String            Stringly\n",
    "\n",
    "def add_string():\n",
    "    str1 = str(input(\"Enter a word: \"))\n",
    "    if len(str1) >= 3:\n",
    "        if str[-3:] == 'ing':\n",
    "            str1 += 'ly'\n",
    "        else:\n",
    "            str1 += 'ing'\n",
    "    print(\"New word = \",str1)\n",
    "    \n",
    "if _name_==\"_main_\":\n",
    "    add_string()\n",
    "        "
   ]
  },
  {
   "cell_type": "code",
   "execution_count": 6,
   "metadata": {},
   "outputs": [
    {
     "name": "stdout",
     "output_type": "stream",
     "text": [
      "The original string  is : python\n",
      "The reversed string(using recursion) is : nohtyp\n"
     ]
    }
   ],
   "source": [
    "#Q6.Write a function to reverse a string using recursion.\n",
    "#INPUT : python\n",
    "#OUTPUT : nohtyp.\n",
    "\n",
    "def reverse(s): \n",
    "    if len(s) == 0: \n",
    "        return s \n",
    "    else: \n",
    "        return reverse(s[1:]) + s[0] \n",
    "  \n",
    "s = \"python\"\n",
    "  \n",
    "print (\"The original string  is : \",end=\"\") \n",
    "print (s) \n",
    "  \n",
    "print (\"The reversed string(using recursion) is : \",end=\"\") \n",
    "print (reverse(s)) "
   ]
  },
  {
   "cell_type": "code",
   "execution_count": 7,
   "metadata": {},
   "outputs": [
    {
     "name": "stdout",
     "output_type": "stream",
     "text": [
      "6\n"
     ]
    }
   ],
   "source": [
    "#Q7. Write a recursive function to calculate length of a string.\n",
    "\n",
    "#INPUT : Python \n",
    "#OUTPUT : 6\n",
    "\n",
    "str = \"Python\"\n",
    "  \n",
    "def string_length(str) : \n",
    "       \n",
    "    if str == '': \n",
    "        return 0\n",
    "    else : \n",
    "        return 1 + string_length(str[1:])  \n",
    "      \n",
    "print (string_length(str))"
   ]
  },
  {
   "cell_type": "code",
   "execution_count": 8,
   "metadata": {},
   "outputs": [
    {
     "name": "stdout",
     "output_type": "stream",
     "text": [
      "32\n"
     ]
    }
   ],
   "source": [
    "#Q8. Write a python function that calculates and prints the value of the formula.\n",
    "#y=6x^2+3x+2\n",
    "\n",
    "\n",
    "def f(x):\n",
    "    return 6*x**2 + 3*x + 2\n",
    "\n",
    "y = f(2)\n",
    "print(y)\n"
   ]
  },
  {
   "cell_type": "code",
   "execution_count": 12,
   "metadata": {},
   "outputs": [
    {
     "name": "stdout",
     "output_type": "stream",
     "text": [
      "Values :  26\n",
      "Values :  17\n",
      "Values :  10\n",
      "Values :  5\n",
      "Values :  2\n",
      "None\n"
     ]
    }
   ],
   "source": [
    "#Q9. Define a sequence of numbers xn = n^2 + 1,for integers n=0,1,2,...,N.\n",
    "\n",
    "def sequence(n):\n",
    "    for i in range(0,n):\n",
    "        x = n * n + 1\n",
    "        n = n - 1\n",
    "        print(\"Values : \",x)\n",
    "print(sequence(5))"
   ]
  },
  {
   "cell_type": "code",
   "execution_count": 10,
   "metadata": {},
   "outputs": [
    {
     "name": "stdout",
     "output_type": "stream",
     "text": [
      "[5, 17, 10, 65, 145]\n"
     ]
    }
   ],
   "source": [
    "#Q10. Calculate the a list for the function xn = n^2 + 1\n",
    "#INPUT : [2,4,3,8,12] \n",
    "#OUTPUT : [5,17,10,65,145]\n",
    "\n",
    "def seq(list):\n",
    "  list2 = []\n",
    "  for item in list:\n",
    "    item = item ** 2 + 1\n",
    "    list2.append(item)\n",
    "  \n",
    "  return list2\n",
    "\n",
    "list=[2,4,3,8,12]\n",
    "print(seq(list))"
   ]
  }
 ],
 "metadata": {
  "kernelspec": {
   "display_name": "Python 3",
   "language": "python",
   "name": "python3"
  },
  "language_info": {
   "codemirror_mode": {
    "name": "ipython",
    "version": 3
   },
   "file_extension": ".py",
   "mimetype": "text/x-python",
   "name": "python",
   "nbconvert_exporter": "python",
   "pygments_lexer": "ipython3",
   "version": "3.7.3"
  }
 },
 "nbformat": 4,
 "nbformat_minor": 2
}
