{
 "cells": [
  {
   "cell_type": "code",
   "execution_count": 1,
   "metadata": {},
   "outputs": [
    {
     "name": "stdout",
     "output_type": "stream",
     "text": [
      "Enter sub1 marks: 65\n",
      "Enter sub2 marks: 98\n",
      "Enter sub3 marks: 87\n",
      "Enter sub4 marks: 75\n",
      "Enter sub5 marks: 59\n",
      "Total marks is:  384\n",
      "Average marks is:  76.8\n"
     ]
    }
   ],
   "source": [
    "#Q1. Write a program to calculate average marks of five inputted marks.\n",
    "#Ans:-\n",
    "\n",
    "sub1 = int(input(\"Enter sub1 marks: \"))\n",
    "sub2 = int(input(\"Enter sub2 marks: \"))\n",
    "sub3 = int(input(\"Enter sub3 marks: \"))\n",
    "sub4 = int(input(\"Enter sub4 marks: \"))\n",
    "sub5 = int(input(\"Enter sub5 marks: \"))\n",
    "\n",
    "Total = (sub1+sub2+sub3+sub4+sub5)\n",
    "print(\"Total marks is: \",Total)\n",
    "\n",
    "Avg = Total/5\n",
    "print(\"Average marks is: \",Avg)"
   ]
  },
  {
   "cell_type": "code",
   "execution_count": 2,
   "metadata": {},
   "outputs": [
    {
     "name": "stdout",
     "output_type": "stream",
     "text": [
      "Array after merging\n",
      "1 2 3 4 5 6 7 8 "
     ]
    }
   ],
   "source": [
    "#Q2. Write a program to merge two sorted array in another sorted array.\n",
    "#Ans:-\n",
    "\n",
    "def mergeArrays(arr1, arr2, n1, n2):\n",
    "    arr3 = [None] * (n1 + n2)\n",
    "    i = 0\n",
    "    j = 0\n",
    "    k = 0\n",
    " \n",
    "    while i < n1 and j < n2:\n",
    "     \n",
    "        if arr1[i] < arr2[j]:\n",
    "            arr3[k] = arr1[i]\n",
    "            k = k + 1\n",
    "            i = i + 1\n",
    "        else:\n",
    "            arr3[k] = arr2[j]\n",
    "            k = k + 1\n",
    "            j = j + 1\n",
    "     \n",
    " \n",
    "    \n",
    "    while i < n1:\n",
    "        arr3[k] = arr1[i];\n",
    "        k = k + 1\n",
    "        i = i + 1\n",
    " \n",
    "    \n",
    "    while j < n2:\n",
    "        arr3[k] = arr2[j];\n",
    "        k = k + 1\n",
    "        j = j + 1\n",
    "    print(\"Array after merging\")\n",
    "    for i in range(n1 + n2):\n",
    "        print(str(arr3[i]), end = \" \")\n",
    " \n",
    "\n",
    "arr1 = [1, 3, 5, 7]\n",
    "n1 = len(arr1)\n",
    " \n",
    "arr2 = [2, 4, 6, 8]\n",
    "n2 = len(arr2)\n",
    "mergeArrays(arr1, arr2, n1, n2);\n",
    " "
   ]
  },
  {
   "cell_type": "code",
   "execution_count": 3,
   "metadata": {},
   "outputs": [
    {
     "name": "stdout",
     "output_type": "stream",
     "text": [
      "Enter a no: 65\n",
      "Enter a no: 58\n",
      "The H.C.F. is 1\n"
     ]
    }
   ],
   "source": [
    "#Q3. Write a program to calculate highest common factor of two inputted integer.\n",
    "#Ans:- \n",
    "\n",
    "def hcf(x, y):\n",
    "\n",
    "    if x > y:\n",
    "        smaller = y\n",
    "    else:\n",
    "        smaller = x\n",
    "    for i in range(1, smaller+1):\n",
    "        if((x % i == 0) and (y % i == 0)):\n",
    "            hcf = i \n",
    "    return hcf\n",
    "\n",
    "num1 = int(input(\"Enter a no: \"))\n",
    "num2 = int(input(\"Enter a no: \"))\n",
    "\n",
    "print(\"The H.C.F. is\",hcf(num1, num2))"
   ]
  },
  {
   "cell_type": "code",
   "execution_count": 4,
   "metadata": {},
   "outputs": [
    {
     "name": "stdout",
     "output_type": "stream",
     "text": [
      "Enter a natural number: 12\n",
      "12  is not a perfect number.\n"
     ]
    }
   ],
   "source": [
    "#Q4. Write a program using function to determine whether a number is a perfect number. \n",
    "#A natural number is said to be a perfect number if it is the sum of its divisors.\n",
    "#Ans:-\n",
    "\n",
    "def perfect_number(n):\n",
    "    sum = 0\n",
    "    for x in range(1, n):\n",
    "        if n % x == 0:\n",
    "            sum += x\n",
    "    if(sum==n):\n",
    "        print(n,\"is a perfect number.\")\n",
    "    else:\n",
    "        print(n,\" is not a perfect number.\")\n",
    "n=int(input(\"Enter a natural number: \"))\n",
    "perfect_number(n)"
   ]
  },
  {
   "cell_type": "code",
   "execution_count": 5,
   "metadata": {},
   "outputs": [
    {
     "name": "stdout",
     "output_type": "stream",
     "text": [
      "Enter a number:15\n",
      "Not a palindrome!\n"
     ]
    }
   ],
   "source": [
    "#Q5. Write a program to check whether the inputted number is palindrome or not\n",
    "#Ans:-\n",
    "num=int(input(\"Enter a number:\"))\n",
    "temp=num\n",
    "rev=0\n",
    "while(num>0):\n",
    "    dig=num%10\n",
    "    rev=rev*10+dig\n",
    "    num=num//10\n",
    "if(temp==rev):\n",
    "    print(\"The number is palindrome!\")\n",
    "else:\n",
    "    print(\"Not a palindrome!\")"
   ]
  },
  {
   "cell_type": "code",
   "execution_count": 6,
   "metadata": {},
   "outputs": [
    {
     "name": "stdout",
     "output_type": "stream",
     "text": [
      "0\n",
      "1\n",
      "2\n",
      "3\n",
      "4\n",
      "5\n",
      "6\n",
      "7\n",
      "8\n",
      "9\n",
      "153\n",
      "370\n",
      "371\n",
      "407\n"
     ]
    }
   ],
   "source": [
    "#Q6. Write a program that prints Armstrong number s in the range 1 to 1000. An Armstrong\n",
    "#number is a number whose sum of the cubes of the digits is equal to the number itself.\n",
    "#Ans:-\n",
    "\n",
    "for x in range(1000):\n",
    "    val=x\n",
    "    res=0\n",
    "    n=len(str(x))\n",
    "    while(x!=0):\n",
    "        num=x%10\n",
    "        res=res+num**n\n",
    "        x//=10\n",
    "    if val==res:\n",
    "        print(val)"
   ]
  },
  {
   "cell_type": "code",
   "execution_count": 7,
   "metadata": {},
   "outputs": [
    {
     "name": "stdout",
     "output_type": "stream",
     "text": [
      "[2, 3, 4, 5, 6, 7, 8, 9]\n"
     ]
    }
   ],
   "source": [
    "#Q7. Write a program to sort all the elements in ascending order using bubble sort.\n",
    "#Ans:-\n",
    "def bs(l):\n",
    "    leng=len(l)-1\n",
    "    s=False\n",
    "    while not s:\n",
    "        s=True\n",
    "        for i in range(0,leng):\n",
    "            if l[i]>l[i+1]:\n",
    "                s=False\n",
    "                l[i],l[i+1]=l[i+1],l[i]\n",
    "    return l\n",
    "print(bs([4,6,8,3,2,5,7,9]))"
   ]
  },
  {
   "cell_type": "code",
   "execution_count": 8,
   "metadata": {},
   "outputs": [
    {
     "name": "stdout",
     "output_type": "stream",
     "text": [
      "Enter a number: 15\n",
      "15 is not a prime number\n"
     ]
    }
   ],
   "source": [
    "#Q8. Write a program to check whether the inputted number is prime or not\n",
    "#Ans:-\n",
    "num =int(input(\"Enter a number: \"))\n",
    "\n",
    "if num > 1:\n",
    " \n",
    "    \n",
    "    for i in range(2, int(num/2)+1):\n",
    " \n",
    "       \n",
    "        if (num % i) == 0:\n",
    "            print(num, \"is not a prime number\")\n",
    "            break\n",
    "    else:\n",
    "        print(num, \"is a prime number\")\n",
    " \n",
    "else:\n",
    "    print(num, \"is not a prime number\")"
   ]
  }
 ],
 "metadata": {
  "kernelspec": {
   "display_name": "Python 3",
   "language": "python",
   "name": "python3"
  },
  "language_info": {
   "codemirror_mode": {
    "name": "ipython",
    "version": 3
   },
   "file_extension": ".py",
   "mimetype": "text/x-python",
   "name": "python",
   "nbconvert_exporter": "python",
   "pygments_lexer": "ipython3",
   "version": "3.7.3"
  }
 },
 "nbformat": 4,
 "nbformat_minor": 2
}
