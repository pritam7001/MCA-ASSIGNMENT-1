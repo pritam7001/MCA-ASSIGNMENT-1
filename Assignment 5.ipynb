{
 "cells": [
  {
   "cell_type": "code",
   "execution_count": 18,
   "metadata": {},
   "outputs": [],
   "source": [
    "#Q.1 Build a list containing five integer zeros(using two methods)\n",
    "\n"
   ]
  },
  {
   "cell_type": "code",
   "execution_count": 16,
   "metadata": {},
   "outputs": [
    {
     "name": "stdout",
     "output_type": "stream",
     "text": [
      "{'a': [1, 2, 3], 'b': [1, 2, 3]}\n"
     ]
    }
   ],
   "source": [
    "#Q.2 build a dictionary with two keys, 'a' and 'b', each having an associated value of 0 (using two method)\n",
    "\n",
    "a_list = [1,2,3]\n",
    "a_dict = {\"a\" : a_list, \"b\" : a_list}\n",
    "print(a_dict)\n"
   ]
  },
  {
   "cell_type": "code",
   "execution_count": 13,
   "metadata": {},
   "outputs": [
    {
     "name": "stdout",
     "output_type": "stream",
     "text": [
      "(4, 5, 6)\n",
      "(1, 5, 6)\n"
     ]
    }
   ],
   "source": [
    "#Q.3 Write an expression that changes the first item in a tuple. (4, 5, 6) should become (1, 5, 6) in the process.\n",
    "\n",
    "x = (4,5,6)\n",
    "y = list(x)\n",
    "print(x)\n",
    "\n",
    "y[0] = 1\n",
    "x = tuple(y)\n",
    "print(x)"
   ]
  },
  {
   "cell_type": "code",
   "execution_count": null,
   "metadata": {},
   "outputs": [],
   "source": [
    "#Q.4 When does Python consider an object true?\n"
   ]
  },
  {
   "cell_type": "code",
   "execution_count": 1,
   "metadata": {},
   "outputs": [
    {
     "name": "stdout",
     "output_type": "stream",
     "text": [
      "1\n",
      "[20, 1, 'abc', 50, 12.8]\n"
     ]
    }
   ],
   "source": [
    "#Q.5 Create one list of five element. Find the index of 10 in the list. Insert a new element in the 2nd position.\n",
    "\n",
    "L1 = [20,10,'abc',50,12.8]\n",
    "print(L1.index(10))\n",
    "L1[1] = 1\n",
    "print(L1)"
   ]
  },
  {
   "cell_type": "code",
   "execution_count": 2,
   "metadata": {},
   "outputs": [
    {
     "name": "stdout",
     "output_type": "stream",
     "text": [
      "{1, 3, 4, 5, 6}\n",
      "{1, 2, 3, 4, 5, 6}\n",
      "{1, 2, 3, 4, 5}\n"
     ]
    }
   ],
   "source": [
    "#Q.6 Create a set of 5 elements. Insert a new element in the set and delete an existing element from the set.\n",
    "\n",
    "my_set={1,3,4,5,6}\n",
    "print(my_set)\n",
    "my_set.add(2)\n",
    "print(my_set)\n",
    "my_set.remove(6)\n",
    "print(my_set)"
   ]
  },
  {
   "cell_type": "code",
   "execution_count": 5,
   "metadata": {},
   "outputs": [
    {
     "name": "stdout",
     "output_type": "stream",
     "text": [
      "['a', 'b', 'c', 1, 2, 3]\n"
     ]
    }
   ],
   "source": [
    "#Q.7 Take input from the console and append it in a list and print the list.\n",
    "\n",
    "list1 = [\"a\", \"b\" , \"c\"]\n",
    "list2 = [1, 2, 3]\n",
    "\n",
    "for x in list2:\n",
    "  list1.append(x)\n",
    "\n",
    "print(list1)"
   ]
  },
  {
   "cell_type": "code",
   "execution_count": 6,
   "metadata": {},
   "outputs": [
    {
     "name": "stdout",
     "output_type": "stream",
     "text": [
      "1\n",
      "2\n",
      "3\n",
      "4\n",
      "5\n",
      "6\n",
      "[['1', '2', '3'], ['4', '5', '6']]\n"
     ]
    }
   ],
   "source": [
    "#Q.8 Take the input from the console and create a 2D list.\n",
    "\n",
    "m=[]\n",
    "for i in range(2):\n",
    "    array=[]\n",
    "    for j in range(3):\n",
    "        array.append(input())\n",
    "    m.append(array)\n",
    "print(m)"
   ]
  },
  {
   "cell_type": "code",
   "execution_count": null,
   "metadata": {},
   "outputs": [],
   "source": [
    "#Q.9 Concatenate two lists in the following order.\n"
   ]
  },
  {
   "cell_type": "code",
   "execution_count": 3,
   "metadata": {},
   "outputs": [
    {
     "name": "stdout",
     "output_type": "stream",
     "text": [
      "[1, 4, 9, 16]\n"
     ]
    }
   ],
   "source": [
    "#Q.10 Given a Python list of numbers. Turn every item of a list into its square\n",
    "\n",
    "numbers = [1, 2, 3, 4]\n",
    "\n",
    "squared_numbers = [number ** 2 for number in numbers]\n",
    "\n",
    "print(squared_numbers)"
   ]
  }
 ],
 "metadata": {
  "kernelspec": {
   "display_name": "Python 3",
   "language": "python",
   "name": "python3"
  },
  "language_info": {
   "codemirror_mode": {
    "name": "ipython",
    "version": 3
   },
   "file_extension": ".py",
   "mimetype": "text/x-python",
   "name": "python",
   "nbconvert_exporter": "python",
   "pygments_lexer": "ipython3",
   "version": "3.7.3"
  }
 },
 "nbformat": 4,
 "nbformat_minor": 2
}
