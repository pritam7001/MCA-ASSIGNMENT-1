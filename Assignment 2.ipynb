{
 "cells": [
  {
   "cell_type": "code",
   "execution_count": 1,
   "metadata": {},
   "outputs": [
    {
     "name": "stdout",
     "output_type": "stream",
     "text": [
      "Enter the 1st subject mark: 85\n",
      "Enter the 2nd subject mark: 65\n",
      "Enter the 3rd subject mark: 45\n",
      "Enter the 4th subject mark: 36\n",
      "231\n",
      "57.75\n",
      "Congratulations you have passed!..\n"
     ]
    }
   ],
   "source": [
    "#Q1. WAP to determine a student’s  final grade and indicate whether  they are passing or failing. \n",
    "#The  final grade is calculated as the  average of marks of four\n",
    "#subjects.\n",
    "\n",
    "\n",
    "M = int(input(\"Enter the 1st subject mark: \"))\n",
    "C = int(input(\"Enter the 2nd subject mark: \"))\n",
    "P = int(input(\"Enter the 3rd subject mark: \"))\n",
    "B = int(input(\"Enter the 4th subject mark: \"))\n",
    "\n",
    "Total = M+C+P+B\n",
    "print(Total)\n",
    "\n",
    "Grade = Total/4\n",
    "print(Grade)\n",
    "\n",
    "if Grade >= 40:\n",
    "    print(\"Congratulations you have passed!..\")\n",
    "\n",
    "elif Grade <40:\n",
    "    print(\"Sorry you Failed..\")\n",
    "\n",
    "else:\n",
    "    print(\"Invalid input...\")"
   ]
  },
  {
   "cell_type": "code",
   "execution_count": 2,
   "metadata": {},
   "outputs": [
    {
     "name": "stdout",
     "output_type": "stream",
     "text": [
      "Enter the 1st no: 84\n",
      "Enter the 2nd no: 25\n",
      "n1 is largest...\n"
     ]
    }
   ],
   "source": [
    "#Q2. WAP to find the largest number between two inputted numbers.\n",
    "\n",
    "n1 = int(input(\"Enter the 1st no: \"))\n",
    "n2 = int(input(\"Enter the 2nd no: \"))\n",
    "\n",
    "if n1>n2:\n",
    "    print(\"n1 is largest...\")\n",
    "\n",
    "elif n2>n1:\n",
    "    print(\"n2 is largest...\")\n",
    "\n",
    "elif n1==n2:\n",
    "    print(\"both are equal...\")\n",
    "    \n",
    "else:\n",
    "    print(\"Invalid input...\")\n",
    "    "
   ]
  },
  {
   "cell_type": "code",
   "execution_count": 3,
   "metadata": {},
   "outputs": [
    {
     "name": "stdout",
     "output_type": "stream",
     "text": [
      "Enter first number:65\n",
      "Enter second number:35\n",
      "enter operator [+-*/%]+\n",
      "65.0 + 35.0 = 100.0\n"
     ]
    }
   ],
   "source": [
    "#Q3. WAP that reads two numbers  and an arithmetic operator and  displays the result.\n",
    "\n",
    "num1= float(input(\"Enter first number:\"))\n",
    "\n",
    "num2=float(input(\"Enter second number:\"))\n",
    "\n",
    "op=input(\"enter operator [+-*/%]\")\n",
    "\n",
    "\n",
    "\n",
    "if op=='+':\n",
    "         result=num1+num2\n",
    "\n",
    "elif op =='-':\n",
    "         result=num1-num2\n",
    "\n",
    "elif op=='*':\n",
    "         result=num1*num2\n",
    "\n",
    "elif op=='/':\n",
    "         result=num1/num2\n",
    "\n",
    "else:\n",
    "         print(\"Invalid operator!!\")\n",
    "\n",
    "print(num1,op,num2,'=',result)"
   ]
  },
  {
   "cell_type": "code",
   "execution_count": 4,
   "metadata": {},
   "outputs": [
    {
     "name": "stdout",
     "output_type": "stream",
     "text": [
      "Enter a character: b\n",
      "b is a Consonant\n"
     ]
    }
   ],
   "source": [
    "#Q4. Write a program to accept a character from the user and display whether it is a vowel or consonant.\n",
    "\n",
    "ch = input(\"Enter a character: \")\n",
    "\n",
    "if ch in ('a', 'A', 'e', 'E', 'i', 'I', 'o', 'O', 'u', 'U'):\n",
    "    print(ch, \"is a Vowel\")\n",
    "\n",
    "elif ch in ('y','Y'):\n",
    "    print(\"sometimes\",ch,\"stand for vowel and sometimes stand for constant.\")\n",
    "    \n",
    "else:\n",
    "    print(ch, \"is a Consonant\")"
   ]
  },
  {
   "cell_type": "code",
   "execution_count": 5,
   "metadata": {},
   "outputs": [
    {
     "name": "stdout",
     "output_type": "stream",
     "text": [
      "Enter a number = 65\n",
      "65 is a 2 digit number\n"
     ]
    }
   ],
   "source": [
    "#Q5. WAP to input a number and check whether the number is 2 digit number or not.\n",
    "\n",
    "num = int(input(\"Enter a number = \"))\n",
    "\n",
    "if(num < 100 and num >= 0):\n",
    "    print(num,\"is a 2 digit number\")\n",
    "elif(num >= 100):\n",
    "    print(num,\"is not a 2 digit number\")\n",
    "else:\n",
    "    print(\"Invalid input\")"
   ]
  },
  {
   "cell_type": "code",
   "execution_count": 6,
   "metadata": {},
   "outputs": [
    {
     "name": "stdout",
     "output_type": "stream",
     "text": [
      "Enter a number: 12\n",
      "number is not divisible\n"
     ]
    }
   ],
   "source": [
    "#Q6. WAP to input a number and check whether the number is divisible by 5 and 3 or not.\n",
    "\n",
    "n = float(input(\"Enter a number: \"))\n",
    "if n % 5 == 0 and n % 3 == 0:\n",
    "    print(n,\"n is devisible by 5 and 3\")\n",
    "else:\n",
    "    print(\"number is not divisible\")"
   ]
  },
  {
   "cell_type": "code",
   "execution_count": 7,
   "metadata": {},
   "outputs": [
    {
     "name": "stdout",
     "output_type": "stream",
     "text": [
      "Enter the first no.:36\n",
      "Enter the second no.:56\n",
      "Enter the third no.:48\n",
      "Second smallest number is 48\n"
     ]
    }
   ],
   "source": [
    "#Q7. WAP to input 3 numbers and find the second smallest.\n",
    "\n",
    "n1=int(input(\"Enter the first no.:\"))\n",
    "n2=int(input(\"Enter the second no.:\"))\n",
    "n3=int(input(\"Enter the third no.:\"))\n",
    "\n",
    "if(n1<n2 and n1<n3):\n",
    "    smallest=n1\n",
    "elif(n2<n1 and n2<n3):\n",
    "    smallest=n2\n",
    "else:\n",
    "    smallest=n3\n",
    "\n",
    "if(n1>smallest and n1<n3):\n",
    "    secsmallest=n1\n",
    "elif(n2>smallest and n2<n3):\n",
    "    secsmallest=n2\n",
    "else:\n",
    "    secsmallest=n3\n",
    "\n",
    "print(\"Second smallest number is\",secsmallest)"
   ]
  },
  {
   "cell_type": "code",
   "execution_count": 8,
   "metadata": {},
   "outputs": [
    {
     "name": "stdout",
     "output_type": "stream",
     "text": [
      "Enter the mark= 65\n",
      "Enter the mark= 98\n",
      "Enter the mark= 87\n",
      "Enter the mark= 65\n",
      "Enter the mark= 45\n",
      "360.0\n",
      "72.0\n",
      "Valid marks\n",
      "Grade A\n"
     ]
    }
   ],
   "source": [
    "#Q8. WAP to input marks of 5 subject and find average and assign grade. \n",
    "\n",
    " \n",
    "#Average Marks      Grade \n",
    "#90 & above           O \n",
    "#80 – 89              E\n",
    "#70-79                A\n",
    "#Below 70             B\n",
    "\n",
    "s1 = float(input(\"Enter the mark= \"))\n",
    "s2 = float(input(\"Enter the mark= \"))\n",
    "s3 = float(input(\"Enter the mark= \"))\n",
    "s4 = float(input(\"Enter the mark= \"))\n",
    "s5 = float(input(\"Enter the mark= \"))\n",
    "\n",
    "total = s1 + s2 + s3 + s4 + s5\n",
    "print(total)\n",
    "\n",
    "avg = (total)/5\n",
    "print(avg)\n",
    "\n",
    "if avg >= 0 and avg <= 100 :\n",
    "    print('Valid marks')\n",
    "    \n",
    "    if avg >= 90 and avg <= 100:\n",
    "        print('Grade O')\n",
    "    elif avg >= 80 and avg <= 89:\n",
    "        print('Grade E')\n",
    "    elif avg >= 70 and avg <= 79:\n",
    "        print('Grade A')\n",
    "    elif avg <70:\n",
    "        print('Grade B')\n",
    "\n",
    "else:\n",
    "     print('Invalid marks')"
   ]
  },
  {
   "cell_type": "code",
   "execution_count": 9,
   "metadata": {},
   "outputs": [
    {
     "name": "stdout",
     "output_type": "stream",
     "text": [
      "enter units no :1520\n",
      "15300\n"
     ]
    }
   ],
   "source": [
    "#Q9. WAP to input consumed unit and calculate Electricity Bill, where monthly rent Rs. 300.\n",
    "\n",
    "#Unit      Charge per unit(Rs.)\n",
    "#Upto 300         7\n",
    "#301- 800         9\n",
    "#801-1500        12\n",
    "#1501 & above    15\n",
    "\n",
    "units = int(input('enter units no :'))\n",
    "bill = 0\n",
    "if units <= 300 :\n",
    "    bill = units * 7\n",
    "      \n",
    "elif units>=301 and units<=800: \n",
    "      \n",
    "    bill = ((300 * 7) + (units - 300) * 9)\n",
    "      \n",
    "elif units>=801 and units<=1500: \n",
    "       \n",
    "    bill = ((300 * 7) + (500 * 9) + (units - 800) * 12)\n",
    "      \n",
    "elif units >1500: \n",
    "      \n",
    "    bill = ((300 * 7) + (500 * 9) + (700 * 12) + (units - 1500) * 15)\n",
    "      \n",
    "  \n",
    " \n",
    "  \n",
    "print(bill)"
   ]
  },
  {
   "cell_type": "code",
   "execution_count": 10,
   "metadata": {},
   "outputs": [
    {
     "name": "stdout",
     "output_type": "stream",
     "text": [
      "Input lengths of the triangle sides: \n",
      "x= 65\n",
      "y= 32\n",
      "z= 65\n",
      "isosceles triangle\n"
     ]
    }
   ],
   "source": [
    "#10. WAP to input 3 side of a triangle and prints its type (i.e Equilateral/Isosceles/Scalene).\n",
    "\n",
    "print(\"Input lengths of the triangle sides: \")\n",
    "x = int(input(\"x= \"))\n",
    "y = int(input(\"y= \"))\n",
    "z = int(input(\"z= \"))\n",
    "\n",
    "if x == y == z:\n",
    "\tprint(\"Equilateral triangle\")\n",
    "elif x==y or y==z or z==x:\n",
    "\tprint(\"isosceles triangle\")\n",
    "else:\n",
    "\tprint(\"Scalene triangle\")"
   ]
  }
 ],
 "metadata": {
  "kernelspec": {
   "display_name": "Python 3",
   "language": "python",
   "name": "python3"
  },
  "language_info": {
   "codemirror_mode": {
    "name": "ipython",
    "version": 3
   },
   "file_extension": ".py",
   "mimetype": "text/x-python",
   "name": "python",
   "nbconvert_exporter": "python",
   "pygments_lexer": "ipython3",
   "version": "3.7.3"
  }
 },
 "nbformat": 4,
 "nbformat_minor": 2
}
