{
 "cells": [
  {
   "cell_type": "code",
   "execution_count": 1,
   "metadata": {},
   "outputs": [
    {
     "name": "stdout",
     "output_type": "stream",
     "text": [
      "Pritam Paul \n",
      "\n",
      "Pritam Paul \n",
      "\n",
      "Pritam Paul \n",
      "\n",
      "Pritam Paul \n",
      "\n",
      "Pritam Paul \n",
      "\n",
      "Pritam Paul \n",
      "\n",
      "Pritam Paul \n",
      "\n",
      "Pritam Paul \n",
      "\n",
      "Pritam Paul \n",
      "\n",
      "Pritam Paul \n",
      "\n"
     ]
    }
   ],
   "source": [
    "#Q1. WAP to prnt your name 10 times.\n",
    "\n",
    "for i in range(0,10):\n",
    "    print('Pritam Paul',end =\" \")\n",
    "    print('\\n')"
   ]
  },
  {
   "cell_type": "code",
   "execution_count": 2,
   "metadata": {},
   "outputs": [
    {
     "name": "stdout",
     "output_type": "stream",
     "text": [
      "Enter your range : 15\n",
      "1 2 3 4 5 6 7 8 9 10 11 12 13 14 15 "
     ]
    }
   ],
   "source": [
    "#Q2. WAP to print natural number from 1 to n.\n",
    "\n",
    "a=int(input('Enter your range : '))\n",
    "i=0\n",
    "\n",
    "for i in range(1,a+1):\n",
    "    print(i,end=\" \")"
   ]
  },
  {
   "cell_type": "code",
   "execution_count": 3,
   "metadata": {},
   "outputs": [
    {
     "name": "stdout",
     "output_type": "stream",
     "text": [
      "Enter your range : 15\n",
      "1 3 5 7 9 11 13 "
     ]
    }
   ],
   "source": [
    "#Q3. WAP to print the following series\n",
    "\n",
    "a=int(input('Enter your range : '))\n",
    "i=0\n",
    "\n",
    "for i in range(1,a,i+2):\n",
    "    print(i,end=\" \")"
   ]
  },
  {
   "cell_type": "code",
   "execution_count": 4,
   "metadata": {},
   "outputs": [
    {
     "name": "stdout",
     "output_type": "stream",
     "text": [
      "Enter a number : 5\n",
      "The factorial of 5 is 120\n"
     ]
    }
   ],
   "source": [
    "#Q4. WAP to calculate and display the factorial of an inputted number.\n",
    "\n",
    "num = int(input(\"Enter a number : \"))\n",
    "fact = 1\n",
    "if num < 0:\n",
    "    print(\"Sorry, Factorial is defined only for non negative number\")\n",
    "elif num == 0:\n",
    "    print(\"The factorial of 0 is 1\")\n",
    "else:\n",
    "    for i in range(1,num + 1):\n",
    "        fact = fact * i\n",
    "print(\"The factorial of\",num,\"is\",fact)"
   ]
  },
  {
   "cell_type": "code",
   "execution_count": 5,
   "metadata": {},
   "outputs": [
    {
     "name": "stdout",
     "output_type": "stream",
     "text": [
      "Enter the number: 5\n",
      "Multiplication Table of 5\n",
      "5 X 1 = 5\n",
      "5 X 2 = 10\n",
      "5 X 3 = 15\n",
      "5 X 4 = 20\n",
      "5 X 5 = 25\n",
      "5 X 6 = 30\n",
      "5 X 7 = 35\n",
      "5 X 8 = 40\n",
      "5 X 9 = 45\n",
      "5 X 10 = 50\n"
     ]
    }
   ],
   "source": [
    "#Q5. WAP to generate the table of an inputted number using for loop.\n",
    "\n",
    "num = int(input(\"Enter the number: \"))\n",
    "print(\"Multiplication Table of\", num)\n",
    "for i in range(1, 11):\n",
    "    print(num,\"X\",i,\"=\",num * i)"
   ]
  },
  {
   "cell_type": "code",
   "execution_count": 6,
   "metadata": {},
   "outputs": [
    {
     "name": "stdout",
     "output_type": "stream",
     "text": [
      "Enter a number : 15\n",
      "1\n",
      "3\n",
      "5\n",
      "15\n"
     ]
    }
   ],
   "source": [
    "#Q6. WAP to display factors of an inputted number.\n",
    "\n",
    "a=int(input('Enter a number : '))\n",
    "i=0\n",
    "for i in range(1,a+1):\n",
    "    if a % i == 0:\n",
    "        print(i)"
   ]
  },
  {
   "cell_type": "code",
   "execution_count": 7,
   "metadata": {},
   "outputs": [
    {
     "name": "stdout",
     "output_type": "stream",
     "text": [
      "Enter Number to calculate sum : 10\n",
      "SUM of first  10 numbers is:  55\n"
     ]
    }
   ],
   "source": [
    "#Q7. WAP to calculate sum of first n numbers. 1+2+...+n\n",
    "\n",
    "n = int(input(\"Enter Number to calculate sum : \"))\n",
    "sum = 0\n",
    "for num in range(0, n+1, 1):\n",
    "    sum = sum + num\n",
    "    \n",
    "print(\"SUM of first \", n, \"numbers is: \", sum )\n"
   ]
  },
  {
   "cell_type": "code",
   "execution_count": 8,
   "metadata": {},
   "outputs": [
    {
     "name": "stdout",
     "output_type": "stream",
     "text": [
      "Enter a number: 15\n",
      "15 is not a prime number\n"
     ]
    }
   ],
   "source": [
    "#Q8. WAP to check whether an inputted number is prime or not.Code-\n",
    "\n",
    "num =int(input(\"Enter a number: \"))\n",
    "\n",
    "if num > 1:\n",
    " \n",
    "    \n",
    "    for i in range(2, int(num/2)+1):\n",
    " \n",
    "       \n",
    "        if (num % i) == 0:\n",
    "            print(num, \"is not a prime number\")\n",
    "            break\n",
    "    else:\n",
    "        print(num, \"is a prime number\")\n",
    " \n",
    "else:\n",
    "    print(num, \"is not a prime number\")"
   ]
  },
  {
   "cell_type": "code",
   "execution_count": 9,
   "metadata": {},
   "outputs": [
    {
     "name": "stdout",
     "output_type": "stream",
     "text": [
      "Enter lower range: 10\n",
      "Enter upper range: 50\n",
      "11\n",
      "13\n",
      "17\n",
      "19\n",
      "23\n",
      "29\n",
      "31\n",
      "37\n",
      "41\n",
      "43\n",
      "47\n"
     ]
    }
   ],
   "source": [
    "#Q9. WAP to display all the prime number upto n.\n",
    "\n",
    "lower = int(input(\"Enter lower range: \"))  \n",
    "upper = int(input(\"Enter upper range: \"))  \n",
    "  \n",
    "for num in range(lower,upper + 1):  \n",
    "   if num > 1:  \n",
    "       for i in range(2,num):  \n",
    "           if (num % i) == 0:  \n",
    "               break  \n",
    "       else:  \n",
    "           print(num)  "
   ]
  },
  {
   "cell_type": "code",
   "execution_count": 10,
   "metadata": {},
   "outputs": [
    {
     "name": "stdout",
     "output_type": "stream",
     "text": [
      "Pattern 1 \n",
      "\n",
      "Enter The Number : 5\n",
      "* \n",
      "* * \n",
      "* * * \n",
      "* * * * \n",
      "* * * * * \n",
      "\n",
      "Pattern 2 \n",
      "\n",
      "Enter The Number : 5\n",
      "A A A A A \n",
      "A A A A \n",
      "A A A \n",
      "A A \n",
      "A \n",
      "\n",
      "Pattern 3 \n",
      "\n",
      "Enter The Number : 5\n",
      "A A A A A \n",
      " A A A A \n",
      "  A A A \n",
      "   A A \n",
      "    A \n"
     ]
    }
   ],
   "source": [
    "#Q10. WAP to print the following patterns using loop\n",
    "\n",
    "def p1():\n",
    "    print(\"Pattern 1 \\n\")\n",
    "    n=int(input(\"Enter The Number : \"))\n",
    "    for i in range(1,n+1):\n",
    "        print(\"* \"*i)\n",
    "def p2():\n",
    "    print(\"\\nPattern 2 \\n\")\n",
    "    n=int(input(\"Enter The Number : \"))\n",
    "    for i in range(n,0,-1):\n",
    "        print(\"A \"*i)\n",
    "def p3():\n",
    "    print(\"\\nPattern 3 \\n\")\n",
    "    n=int(input(\"Enter The Number : \"))\n",
    "    for i in range(n,0,-1):\n",
    "        print(\" \"*(n-i)+\"A \"*i)\n",
    "\n",
    "if __name__==\"__main__\":\n",
    "    p1()\n",
    "    p2()\n",
    "    p3()"
   ]
  },
  {
   "cell_type": "code",
   "execution_count": 12,
   "metadata": {},
   "outputs": [
    {
     "name": "stdout",
     "output_type": "stream",
     "text": [
      "Pattern 1:\n",
      "\n",
      "    O \n",
      "   O O \n",
      "  O O O \n",
      " O O O O \n",
      "O O O O O \n",
      "\n",
      "Pattern 2:\n",
      "\n",
      "O O O O O \n",
      " O O O O \n",
      "  O O O \n",
      "   O O \n",
      "    O \n",
      "\n",
      "Pattern 3:\n",
      "\n",
      "1 \n",
      "\n",
      "2 \n",
      "\n",
      "3 \n",
      "\n",
      "4 \n",
      "\n",
      "5 \n",
      "\n",
      "6 \n",
      "\n",
      "7 \n",
      "\n",
      "8 \n",
      "\n",
      "9 \n",
      "\n",
      "10 \n",
      "\n"
     ]
    }
   ],
   "source": [
    "#Q11. WAP to print the following patterns using loopCode-\n",
    "\n",
    "def p1():\n",
    "    print(\"Pattern 1:\\n\")\n",
    "    n=5\n",
    "    for i in range(1,n+1):\n",
    "        print(\" \"*(n-i)+\"O \"*i)\n",
    "\n",
    "def p2():\n",
    "    print(\"\\nPattern 2:\\n\")\n",
    "    n=5\n",
    "    for i in range(n,0,-1):\n",
    "        print(\" \"*(n-i)+\"O \"*i)\n",
    "\n",
    "def p3():\n",
    "    print(\"\\nPattern 3:\\n\")\n",
    "    n=4\n",
    "    v=1\n",
    "    for i in range(1,n+1):\n",
    "        for j in range(1,i+1):\n",
    "            print(v,end=\" \")\n",
    "            v+=1\n",
    "            print(\"\\n\")\n",
    "if __name__ == \"__main__\":\n",
    "    p1()\n",
    "    p2()\n",
    "    p3()"
   ]
  },
  {
   "cell_type": "code",
   "execution_count": 1,
   "metadata": {},
   "outputs": [
    {
     "name": "stdout",
     "output_type": "stream",
     "text": [
      "Enter The Term : 10\n",
      "1 , 1 , 2 , 3 , 5 , 8 , 13 , 21 , 34 , "
     ]
    }
   ],
   "source": [
    "#Q12. WAP to print first n Fibonacci numbers.\n",
    "\n",
    "def fibonacci():\n",
    "    f1 = 0\n",
    "    f2 = 1\n",
    "    n = int(input(\"Enter The Term : \"))\n",
    "    if n < 1:     \n",
    "        return\n",
    "    for x in range(1,n):\n",
    "        print(f2,end = \" , \")\n",
    "        f = f1 + f2\n",
    "        f1 = f2\n",
    "        f2 = f\n",
    "if __name__ == \"__main__\":\n",
    "    fibonacci()"
   ]
  }
 ],
 "metadata": {
  "kernelspec": {
   "display_name": "Python 3",
   "language": "python",
   "name": "python3"
  },
  "language_info": {
   "codemirror_mode": {
    "name": "ipython",
    "version": 3
   },
   "file_extension": ".py",
   "mimetype": "text/x-python",
   "name": "python",
   "nbconvert_exporter": "python",
   "pygments_lexer": "ipython3",
   "version": "3.7.3"
  }
 },
 "nbformat": 4,
 "nbformat_minor": 2
}
